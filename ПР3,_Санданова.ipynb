{
  "nbformat": 4,
  "nbformat_minor": 0,
  "metadata": {
    "colab": {
      "name": "ПР3, Санданова.ipynb",
      "provenance": [],
      "authorship_tag": "ABX9TyPOaaIhqrE1WaxSWIlVA/3p",
      "include_colab_link": true
    },
    "kernelspec": {
      "name": "python3",
      "display_name": "Python 3"
    }
  },
  "cells": [
    {
      "cell_type": "markdown",
      "metadata": {
        "id": "view-in-github",
        "colab_type": "text"
      },
      "source": [
        "<a href=\"https://colab.research.google.com/github/TatyanaSandanova/pis1/blob/main/%D0%9F%D0%A03%2C_%D0%A1%D0%B0%D0%BD%D0%B4%D0%B0%D0%BD%D0%BE%D0%B2%D0%B0.ipynb\" target=\"_parent\"><img src=\"https://colab.research.google.com/assets/colab-badge.svg\" alt=\"Open In Colab\"/></a>"
      ]
    },
    {
      "cell_type": "markdown",
      "metadata": {
        "id": "7Oc3XblZ-yWL"
      },
      "source": [
        "Import packages"
      ]
    },
    {
      "cell_type": "code",
      "metadata": {
        "id": "yCKcZxIF-8kN"
      },
      "source": [
        "import pandas as pd\r\n",
        "import numpy as np\r\n",
        "from IPython.display import display"
      ],
      "execution_count": 37,
      "outputs": []
    },
    {
      "cell_type": "code",
      "metadata": {
        "colab": {
          "base_uri": "https://localhost:8080/",
          "height": 136
        },
        "id": "tET3C6LhAs6D",
        "outputId": "1652e915-a30a-48d1-f302-498e376fe92e"
      },
      "source": [
        "data = pd.read_csv (\"https://archive.ics.uci.edu/ml/machine-learning-databases/glass/glass.data\", header= None)\r\n",
        "data.head(3)"
      ],
      "execution_count": 38,
      "outputs": [
        {
          "output_type": "execute_result",
          "data": {
            "text/html": [
              "<div>\n",
              "<style scoped>\n",
              "    .dataframe tbody tr th:only-of-type {\n",
              "        vertical-align: middle;\n",
              "    }\n",
              "\n",
              "    .dataframe tbody tr th {\n",
              "        vertical-align: top;\n",
              "    }\n",
              "\n",
              "    .dataframe thead th {\n",
              "        text-align: right;\n",
              "    }\n",
              "</style>\n",
              "<table border=\"1\" class=\"dataframe\">\n",
              "  <thead>\n",
              "    <tr style=\"text-align: right;\">\n",
              "      <th></th>\n",
              "      <th>0</th>\n",
              "      <th>1</th>\n",
              "      <th>2</th>\n",
              "      <th>3</th>\n",
              "      <th>4</th>\n",
              "      <th>5</th>\n",
              "      <th>6</th>\n",
              "      <th>7</th>\n",
              "      <th>8</th>\n",
              "      <th>9</th>\n",
              "      <th>10</th>\n",
              "    </tr>\n",
              "  </thead>\n",
              "  <tbody>\n",
              "    <tr>\n",
              "      <th>0</th>\n",
              "      <td>1</td>\n",
              "      <td>1.52101</td>\n",
              "      <td>13.64</td>\n",
              "      <td>4.49</td>\n",
              "      <td>1.10</td>\n",
              "      <td>71.78</td>\n",
              "      <td>0.06</td>\n",
              "      <td>8.75</td>\n",
              "      <td>0.0</td>\n",
              "      <td>0.0</td>\n",
              "      <td>1</td>\n",
              "    </tr>\n",
              "    <tr>\n",
              "      <th>1</th>\n",
              "      <td>2</td>\n",
              "      <td>1.51761</td>\n",
              "      <td>13.89</td>\n",
              "      <td>3.60</td>\n",
              "      <td>1.36</td>\n",
              "      <td>72.73</td>\n",
              "      <td>0.48</td>\n",
              "      <td>7.83</td>\n",
              "      <td>0.0</td>\n",
              "      <td>0.0</td>\n",
              "      <td>1</td>\n",
              "    </tr>\n",
              "    <tr>\n",
              "      <th>2</th>\n",
              "      <td>3</td>\n",
              "      <td>1.51618</td>\n",
              "      <td>13.53</td>\n",
              "      <td>3.55</td>\n",
              "      <td>1.54</td>\n",
              "      <td>72.99</td>\n",
              "      <td>0.39</td>\n",
              "      <td>7.78</td>\n",
              "      <td>0.0</td>\n",
              "      <td>0.0</td>\n",
              "      <td>1</td>\n",
              "    </tr>\n",
              "  </tbody>\n",
              "</table>\n",
              "</div>"
            ],
            "text/plain": [
              "   0        1      2     3     4      5     6     7    8    9   10\n",
              "0   1  1.52101  13.64  4.49  1.10  71.78  0.06  8.75  0.0  0.0   1\n",
              "1   2  1.51761  13.89  3.60  1.36  72.73  0.48  7.83  0.0  0.0   1\n",
              "2   3  1.51618  13.53  3.55  1.54  72.99  0.39  7.78  0.0  0.0   1"
            ]
          },
          "metadata": {
            "tags": []
          },
          "execution_count": 38
        }
      ]
    },
    {
      "cell_type": "code",
      "metadata": {
        "colab": {
          "base_uri": "https://localhost:8080/",
          "height": 136
        },
        "id": "k2aleAMFCs5I",
        "outputId": "12a44e18-e730-4363-dac2-be748f6bccd2"
      },
      "source": [
        "names = [\"Id\",\"RI\",\"Na\",\"Mg\",\"Al\",\"Si\",\"K\",\"Ca\",\"Ba\",\"Fe\",\"Class\"]\r\n",
        "data.columns = names\r\n",
        "data = data.drop(columns=[\"Id\"])\r\n",
        "data.head(3)"
      ],
      "execution_count": 39,
      "outputs": [
        {
          "output_type": "execute_result",
          "data": {
            "text/html": [
              "<div>\n",
              "<style scoped>\n",
              "    .dataframe tbody tr th:only-of-type {\n",
              "        vertical-align: middle;\n",
              "    }\n",
              "\n",
              "    .dataframe tbody tr th {\n",
              "        vertical-align: top;\n",
              "    }\n",
              "\n",
              "    .dataframe thead th {\n",
              "        text-align: right;\n",
              "    }\n",
              "</style>\n",
              "<table border=\"1\" class=\"dataframe\">\n",
              "  <thead>\n",
              "    <tr style=\"text-align: right;\">\n",
              "      <th></th>\n",
              "      <th>RI</th>\n",
              "      <th>Na</th>\n",
              "      <th>Mg</th>\n",
              "      <th>Al</th>\n",
              "      <th>Si</th>\n",
              "      <th>K</th>\n",
              "      <th>Ca</th>\n",
              "      <th>Ba</th>\n",
              "      <th>Fe</th>\n",
              "      <th>Class</th>\n",
              "    </tr>\n",
              "  </thead>\n",
              "  <tbody>\n",
              "    <tr>\n",
              "      <th>0</th>\n",
              "      <td>1.52101</td>\n",
              "      <td>13.64</td>\n",
              "      <td>4.49</td>\n",
              "      <td>1.10</td>\n",
              "      <td>71.78</td>\n",
              "      <td>0.06</td>\n",
              "      <td>8.75</td>\n",
              "      <td>0.0</td>\n",
              "      <td>0.0</td>\n",
              "      <td>1</td>\n",
              "    </tr>\n",
              "    <tr>\n",
              "      <th>1</th>\n",
              "      <td>1.51761</td>\n",
              "      <td>13.89</td>\n",
              "      <td>3.60</td>\n",
              "      <td>1.36</td>\n",
              "      <td>72.73</td>\n",
              "      <td>0.48</td>\n",
              "      <td>7.83</td>\n",
              "      <td>0.0</td>\n",
              "      <td>0.0</td>\n",
              "      <td>1</td>\n",
              "    </tr>\n",
              "    <tr>\n",
              "      <th>2</th>\n",
              "      <td>1.51618</td>\n",
              "      <td>13.53</td>\n",
              "      <td>3.55</td>\n",
              "      <td>1.54</td>\n",
              "      <td>72.99</td>\n",
              "      <td>0.39</td>\n",
              "      <td>7.78</td>\n",
              "      <td>0.0</td>\n",
              "      <td>0.0</td>\n",
              "      <td>1</td>\n",
              "    </tr>\n",
              "  </tbody>\n",
              "</table>\n",
              "</div>"
            ],
            "text/plain": [
              "        RI     Na    Mg    Al     Si     K    Ca   Ba   Fe  Class\n",
              "0  1.52101  13.64  4.49  1.10  71.78  0.06  8.75  0.0  0.0      1\n",
              "1  1.51761  13.89  3.60  1.36  72.73  0.48  7.83  0.0  0.0      1\n",
              "2  1.51618  13.53  3.55  1.54  72.99  0.39  7.78  0.0  0.0      1"
            ]
          },
          "metadata": {
            "tags": []
          },
          "execution_count": 39
        }
      ]
    },
    {
      "cell_type": "code",
      "metadata": {
        "colab": {
          "base_uri": "https://localhost:8080/"
        },
        "id": "c5HevcQjDoPt",
        "outputId": "9e0b6f2e-da6b-422c-d451-1f241c573ee5"
      },
      "source": [
        "data['Class'].replace({1:\"building_float\",\r\n",
        "                       2:\"building_non_float\",\r\n",
        "                       3:\"vehicle_float\",\r\n",
        "                       4:\"vehicle_non_float\", 5:\"containers\",\r\n",
        "                       6:\"tableware\",\r\n",
        "                       7:\"headlamps\"}, inplace=True)\r\n",
        "data['Class'].value_counts()"
      ],
      "execution_count": 40,
      "outputs": [
        {
          "output_type": "execute_result",
          "data": {
            "text/plain": [
              "building_non_float    76\n",
              "building_float        70\n",
              "headlamps             29\n",
              "vehicle_float         17\n",
              "containers            13\n",
              "tableware              9\n",
              "Name: Class, dtype: int64"
            ]
          },
          "metadata": {
            "tags": []
          },
          "execution_count": 40
        }
      ]
    },
    {
      "cell_type": "code",
      "metadata": {
        "colab": {
          "base_uri": "https://localhost:8080/"
        },
        "id": "vAGLUfEKFM8q",
        "outputId": "d2aea1bd-0ad4-4485-d87a-6ad30b5e6390"
      },
      "source": [
        "for col in data.columns:\r\n",
        "  fr = np.random.randint(5,10)/100\r\n",
        "  data.loc[data.sample(frac=fr).index, col] = np.nan\r\n",
        "data.info()"
      ],
      "execution_count": 30,
      "outputs": [
        {
          "output_type": "stream",
          "text": [
            "<class 'pandas.core.frame.DataFrame'>\n",
            "RangeIndex: 214 entries, 0 to 213\n",
            "Data columns (total 11 columns):\n",
            " #   Column  Non-Null Count  Dtype  \n",
            "---  ------  --------------  -----  \n",
            " 0   0       195 non-null    float64\n",
            " 1   1       201 non-null    float64\n",
            " 2   2       203 non-null    float64\n",
            " 3   3       201 non-null    float64\n",
            " 4   4       203 non-null    float64\n",
            " 5   5       195 non-null    float64\n",
            " 6   6       203 non-null    float64\n",
            " 7   7       197 non-null    float64\n",
            " 8   8       197 non-null    float64\n",
            " 9   9       203 non-null    float64\n",
            " 10  10      197 non-null    float64\n",
            "dtypes: float64(11)\n",
            "memory usage: 18.5 KB\n"
          ],
          "name": "stdout"
        }
      ]
    },
    {
      "cell_type": "markdown",
      "metadata": {
        "id": "N6fh0otvHQRs"
      },
      "source": [
        "Data Vizualization"
      ]
    },
    {
      "cell_type": "code",
      "metadata": {
        "colab": {
          "base_uri": "https://localhost:8080/"
        },
        "id": "c2mGWTijHEoN",
        "outputId": "a2a18ecb-a3a0-48f7-f28d-e06c8ebe276b"
      },
      "source": [
        "data.info()"
      ],
      "execution_count": 31,
      "outputs": [
        {
          "output_type": "stream",
          "text": [
            "<class 'pandas.core.frame.DataFrame'>\n",
            "RangeIndex: 214 entries, 0 to 213\n",
            "Data columns (total 11 columns):\n",
            " #   Column  Non-Null Count  Dtype  \n",
            "---  ------  --------------  -----  \n",
            " 0   0       195 non-null    float64\n",
            " 1   1       201 non-null    float64\n",
            " 2   2       203 non-null    float64\n",
            " 3   3       201 non-null    float64\n",
            " 4   4       203 non-null    float64\n",
            " 5   5       195 non-null    float64\n",
            " 6   6       203 non-null    float64\n",
            " 7   7       197 non-null    float64\n",
            " 8   8       197 non-null    float64\n",
            " 9   9       203 non-null    float64\n",
            " 10  10      197 non-null    float64\n",
            "dtypes: float64(11)\n",
            "memory usage: 18.5 KB\n"
          ],
          "name": "stdout"
        }
      ]
    },
    {
      "cell_type": "code",
      "metadata": {
        "colab": {
          "base_uri": "https://localhost:8080/",
          "height": 284
        },
        "id": "flI_8AIbHavZ",
        "outputId": "37bfd02c-0f6c-45e4-8cbf-22717d9118a8"
      },
      "source": [
        "data.describe()"
      ],
      "execution_count": 32,
      "outputs": [
        {
          "output_type": "execute_result",
          "data": {
            "text/html": [
              "<div>\n",
              "<style scoped>\n",
              "    .dataframe tbody tr th:only-of-type {\n",
              "        vertical-align: middle;\n",
              "    }\n",
              "\n",
              "    .dataframe tbody tr th {\n",
              "        vertical-align: top;\n",
              "    }\n",
              "\n",
              "    .dataframe thead th {\n",
              "        text-align: right;\n",
              "    }\n",
              "</style>\n",
              "<table border=\"1\" class=\"dataframe\">\n",
              "  <thead>\n",
              "    <tr style=\"text-align: right;\">\n",
              "      <th></th>\n",
              "      <th>0</th>\n",
              "      <th>1</th>\n",
              "      <th>2</th>\n",
              "      <th>3</th>\n",
              "      <th>4</th>\n",
              "      <th>5</th>\n",
              "      <th>6</th>\n",
              "      <th>7</th>\n",
              "      <th>8</th>\n",
              "      <th>9</th>\n",
              "      <th>10</th>\n",
              "    </tr>\n",
              "  </thead>\n",
              "  <tbody>\n",
              "    <tr>\n",
              "      <th>count</th>\n",
              "      <td>195.000000</td>\n",
              "      <td>201.000000</td>\n",
              "      <td>203.000000</td>\n",
              "      <td>201.000000</td>\n",
              "      <td>203.000000</td>\n",
              "      <td>195.000000</td>\n",
              "      <td>203.000000</td>\n",
              "      <td>197.000000</td>\n",
              "      <td>197.000000</td>\n",
              "      <td>203.000000</td>\n",
              "      <td>197.000000</td>\n",
              "    </tr>\n",
              "    <tr>\n",
              "      <th>mean</th>\n",
              "      <td>106.758974</td>\n",
              "      <td>1.518368</td>\n",
              "      <td>13.412167</td>\n",
              "      <td>2.689254</td>\n",
              "      <td>1.430296</td>\n",
              "      <td>72.671436</td>\n",
              "      <td>0.498079</td>\n",
              "      <td>8.961371</td>\n",
              "      <td>0.175787</td>\n",
              "      <td>0.056601</td>\n",
              "      <td>2.746193</td>\n",
              "    </tr>\n",
              "    <tr>\n",
              "      <th>std</th>\n",
              "      <td>61.492002</td>\n",
              "      <td>0.003061</td>\n",
              "      <td>0.831729</td>\n",
              "      <td>1.444929</td>\n",
              "      <td>0.481327</td>\n",
              "      <td>0.756703</td>\n",
              "      <td>0.665735</td>\n",
              "      <td>1.472532</td>\n",
              "      <td>0.494316</td>\n",
              "      <td>0.097710</td>\n",
              "      <td>2.093856</td>\n",
              "    </tr>\n",
              "    <tr>\n",
              "      <th>min</th>\n",
              "      <td>1.000000</td>\n",
              "      <td>1.511150</td>\n",
              "      <td>10.730000</td>\n",
              "      <td>0.000000</td>\n",
              "      <td>0.290000</td>\n",
              "      <td>69.890000</td>\n",
              "      <td>0.000000</td>\n",
              "      <td>5.430000</td>\n",
              "      <td>0.000000</td>\n",
              "      <td>0.000000</td>\n",
              "      <td>1.000000</td>\n",
              "    </tr>\n",
              "    <tr>\n",
              "      <th>25%</th>\n",
              "      <td>54.500000</td>\n",
              "      <td>1.516550</td>\n",
              "      <td>12.915000</td>\n",
              "      <td>2.090000</td>\n",
              "      <td>1.190000</td>\n",
              "      <td>72.300000</td>\n",
              "      <td>0.125000</td>\n",
              "      <td>8.220000</td>\n",
              "      <td>0.000000</td>\n",
              "      <td>0.000000</td>\n",
              "      <td>1.000000</td>\n",
              "    </tr>\n",
              "    <tr>\n",
              "      <th>50%</th>\n",
              "      <td>105.000000</td>\n",
              "      <td>1.517690</td>\n",
              "      <td>13.310000</td>\n",
              "      <td>3.480000</td>\n",
              "      <td>1.360000</td>\n",
              "      <td>72.790000</td>\n",
              "      <td>0.550000</td>\n",
              "      <td>8.600000</td>\n",
              "      <td>0.000000</td>\n",
              "      <td>0.000000</td>\n",
              "      <td>2.000000</td>\n",
              "    </tr>\n",
              "    <tr>\n",
              "      <th>75%</th>\n",
              "      <td>160.500000</td>\n",
              "      <td>1.519160</td>\n",
              "      <td>13.875000</td>\n",
              "      <td>3.610000</td>\n",
              "      <td>1.625000</td>\n",
              "      <td>73.100000</td>\n",
              "      <td>0.610000</td>\n",
              "      <td>9.140000</td>\n",
              "      <td>0.000000</td>\n",
              "      <td>0.095000</td>\n",
              "      <td>3.000000</td>\n",
              "    </tr>\n",
              "    <tr>\n",
              "      <th>max</th>\n",
              "      <td>214.000000</td>\n",
              "      <td>1.533930</td>\n",
              "      <td>17.380000</td>\n",
              "      <td>4.490000</td>\n",
              "      <td>3.500000</td>\n",
              "      <td>75.410000</td>\n",
              "      <td>6.210000</td>\n",
              "      <td>16.190000</td>\n",
              "      <td>3.150000</td>\n",
              "      <td>0.510000</td>\n",
              "      <td>7.000000</td>\n",
              "    </tr>\n",
              "  </tbody>\n",
              "</table>\n",
              "</div>"
            ],
            "text/plain": [
              "               0           1           2   ...          8           9           10\n",
              "count  195.000000  201.000000  203.000000  ...  197.000000  203.000000  197.000000\n",
              "mean   106.758974    1.518368   13.412167  ...    0.175787    0.056601    2.746193\n",
              "std     61.492002    0.003061    0.831729  ...    0.494316    0.097710    2.093856\n",
              "min      1.000000    1.511150   10.730000  ...    0.000000    0.000000    1.000000\n",
              "25%     54.500000    1.516550   12.915000  ...    0.000000    0.000000    1.000000\n",
              "50%    105.000000    1.517690   13.310000  ...    0.000000    0.000000    2.000000\n",
              "75%    160.500000    1.519160   13.875000  ...    0.000000    0.095000    3.000000\n",
              "max    214.000000    1.533930   17.380000  ...    3.150000    0.510000    7.000000\n",
              "\n",
              "[8 rows x 11 columns]"
            ]
          },
          "metadata": {
            "tags": []
          },
          "execution_count": 32
        }
      ]
    },
    {
      "cell_type": "code",
      "metadata": {
        "colab": {
          "base_uri": "https://localhost:8080/",
          "height": 252
        },
        "id": "CojDlwtGHojT",
        "outputId": "3733902c-145a-4699-83f0-dd476e585fa8"
      },
      "source": [
        "display(data['Class'].value_counts())\r\n",
        "display(print(\"-----------------------------\"))\r\n",
        "display(data['Class'].describe())"
      ],
      "execution_count": 46,
      "outputs": [
        {
          "output_type": "display_data",
          "data": {
            "text/plain": [
              "building_non_float    76\n",
              "building_float        70\n",
              "headlamps             29\n",
              "vehicle_float         17\n",
              "containers            13\n",
              "tableware              9\n",
              "Name: Class, dtype: int64"
            ]
          },
          "metadata": {
            "tags": []
          }
        },
        {
          "output_type": "stream",
          "text": [
            "-----------------------------\n"
          ],
          "name": "stdout"
        },
        {
          "output_type": "display_data",
          "data": {
            "text/plain": [
              "None"
            ]
          },
          "metadata": {
            "tags": []
          }
        },
        {
          "output_type": "display_data",
          "data": {
            "text/plain": [
              "count                    214\n",
              "unique                     6\n",
              "top       building_non_float\n",
              "freq                      76\n",
              "Name: Class, dtype: object"
            ]
          },
          "metadata": {
            "tags": []
          }
        }
      ]
    }
  ]
}